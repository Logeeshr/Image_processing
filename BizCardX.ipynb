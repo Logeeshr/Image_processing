{
  "nbformat": 4,
  "nbformat_minor": 0,
  "metadata": {
    "colab": {
      "provenance": []
    },
    "kernelspec": {
      "name": "python3",
      "display_name": "Python 3"
    },
    "language_info": {
      "name": "python"
    }
  },
  "cells": [
    {
      "cell_type": "code",
      "execution_count": null,
      "metadata": {
        "id": "ZIcHVJX9QHSF"
      },
      "outputs": [],
      "source": [
        "#installing streamlit\n",
        "!pip install -q streamlit\n",
        "#installing easyocr library\n",
        "!pip install easyocr"
      ]
    },
    {
      "cell_type": "code",
      "execution_count": 12,
      "metadata": {
        "colab": {
          "base_uri": "https://localhost:8080/"
        },
        "id": "Vh4qeDbb7cuC",
        "outputId": "50e07453-a4cf-46d2-b632-bdcaf8546ea2"
      },
      "outputs": [
        {
          "output_type": "stream",
          "name": "stdout",
          "text": [
            "Overwriting app.py\n"
          ]
        }
      ],
      "source": [
        "%%writefile app.py\n",
        "#importing dependcies\n",
        "import streamlit as st\n",
        "import easyocr as ocr\n",
        "from PIL import Image\n",
        "import pandas as pd\n",
        "import numpy as np\n",
        "import re\n",
        "import sqlite3\n",
        "\n",
        "#Title for webapp\n",
        "st.title(\"BizCardX: Extracting Business Card\")\n",
        "\n",
        "#File uploader-Image uploading\n",
        "img = st.file_uploader(label=\"UPLOAD YOUR BUISNESS CARD\",type=['png','jpg','jpeg'])\n",
        "#Reading the image \n",
        "reader = ocr.Reader(['en'])\n",
        "\n",
        "if img is not None:\n",
        "    ex_image = Image.open(img)\n",
        "    result = reader.readtext(np.array(ex_image))\n",
        "    #creating a empty list to store extracted details \n",
        "    l = []\n",
        "    for res in result:\n",
        "       text = res[1]\n",
        "       l.append(text)\n",
        "       \n",
        "       \n",
        "    #dictionary for creating dataframe\n",
        "    fn_dict = {'Company':[],'Co-ordinator':[],'Designation':[],'Phone_Number':[],'Email_Address':[],'Website':[],'State':[],'Pin_Code':[]}\n",
        "    \n",
        "    \n",
        "    #extracting the name and Designation\n",
        "    fn_dict['Co-ordinator'].append(l[0])\n",
        "    fn_dict['Designation'].append(l[1])\n",
        "    \n",
        "    #Extracting the phone number\n",
        "    ph_pattern = r'^\\+?\\d{1,3}-\\d{3}-\\d{4}$'\n",
        "    for item in l:\n",
        "      match = re.search(ph_pattern, item)      \n",
        "      if match:\n",
        "        phone_number = match.group()\n",
        "        fn_dict['Phone_Number'].append(phone_number)\n",
        " \n",
        "    #Extracting the Email_id\n",
        "    mail_pattern = r'^h.*'\n",
        "    for item in l:\n",
        "      match = re.search(mail_pattern, item) \n",
        "      if match:\n",
        "        mail = match.group()\n",
        "        fn_dict['Email_Address'].append(mail)\n",
        "    \n",
        "    #Extracting the Website of comapny\n",
        "    web_pattern = r'^[wW].*'\n",
        "    for item in l:\n",
        "      match = re.search(web_pattern, item) \n",
        "      if match:\n",
        "        web = match.group()\n",
        "        fn_dict['Website'].append(web)\n",
        "\n",
        "    #Extracting the location-State\n",
        "    state_pattern = r'\\bTamilNadu\\b'\n",
        "    for item in l:\n",
        "      match = re.search(state_pattern, item) \n",
        "      if match:\n",
        "        state = match.group(0)\n",
        "        fn_dict['State'].append(state)\n",
        "\n",
        "    #Extracting the location-Pincode\n",
        "    pin_pattern = r'\\b\\d{7}\\b'\n",
        "    for item in l:\n",
        "      match = re.search(pin_pattern, item) \n",
        "      if match:\n",
        "        pin = match.group(0)\n",
        "        fn_dict['Pin_Code'].append(pin)\n",
        "   \n",
        "    #Extracting the Comapny name\n",
        "    comapny_pattern = r'\\b(BORCELLE)\\b'\n",
        "    for item in l:\n",
        "      match = re.search(comapny_pattern, item) \n",
        "      if match:\n",
        "        company = match.group(0)        \n",
        "        fn_dict['Company'].append(company)       \n",
        "          \n",
        "    #creating the dataframe\n",
        "    df = pd.DataFrame(fn_dict)\n",
        "    df_view = df.T\n",
        "    \n",
        "    #viewing the DataFrame\n",
        "    st.dataframe(df_view)\n",
        "    \n",
        "    #uploading to sql\n",
        "    if st.button('Upload to SQL'):\n",
        "      conn = sqlite3.connect('Buisness.db')\n",
        "      df.to_sql(name = \"items\",con = conn, if_exists = 'append')\n",
        "      st.write('Uploaded Sucessfully')"
      ]
    },
    {
      "cell_type": "markdown",
      "source": [
        "**Streamlit running**\n",
        "\n",
        "*  Run all cells below and click the link generated\n",
        "\n",
        "\n"
      ],
      "metadata": {
        "id": "7dTurxIaSUfI"
      }
    },
    {
      "cell_type": "code",
      "source": [
        "!npm install localtunnel"
      ],
      "metadata": {
        "colab": {
          "base_uri": "https://localhost:8080/"
        },
        "id": "J6AtJJq5STcr",
        "outputId": "b0f45e25-074a-46ee-83e2-7ea9593e9282"
      },
      "execution_count": 13,
      "outputs": [
        {
          "output_type": "stream",
          "name": "stdout",
          "text": [
            "\u001b[K\u001b[?25h\u001b[37;40mnpm\u001b[0m \u001b[0m\u001b[30;43mWARN\u001b[0m \u001b[0m\u001b[35msaveError\u001b[0m ENOENT: no such file or directory, open '/content/package.json'\n",
            "\u001b[0m\u001b[37;40mnpm\u001b[0m \u001b[0m\u001b[30;43mWARN\u001b[0m \u001b[0m\u001b[35menoent\u001b[0m ENOENT: no such file or directory, open '/content/package.json'\n",
            "\u001b[0m\u001b[37;40mnpm\u001b[0m \u001b[0m\u001b[30;43mWARN\u001b[0m\u001b[35m\u001b[0m content No description\n",
            "\u001b[0m\u001b[37;40mnpm\u001b[0m \u001b[0m\u001b[30;43mWARN\u001b[0m\u001b[35m\u001b[0m content No repository field.\n",
            "\u001b[0m\u001b[37;40mnpm\u001b[0m \u001b[0m\u001b[30;43mWARN\u001b[0m\u001b[35m\u001b[0m content No README data\n",
            "\u001b[0m\u001b[37;40mnpm\u001b[0m \u001b[0m\u001b[30;43mWARN\u001b[0m\u001b[35m\u001b[0m content No license field.\n",
            "\u001b[0m\n",
            "+ localtunnel@2.0.2\n",
            "updated 1 package and audited 36 packages in 0.32s\n",
            "\n",
            "3 packages are looking for funding\n",
            "  run `npm fund` for details\n",
            "\n",
            "found \u001b[92m0\u001b[0m vulnerabilities\n",
            "\n",
            "\u001b[K\u001b[?25h"
          ]
        }
      ]
    },
    {
      "cell_type": "code",
      "source": [
        "!streamlit run /content/app.py &>/content/logs.txt &"
      ],
      "metadata": {
        "id": "k8jZG6cGSTnS"
      },
      "execution_count": 14,
      "outputs": []
    },
    {
      "cell_type": "code",
      "source": [
        "!npx localtunnel --port 8501"
      ],
      "metadata": {
        "colab": {
          "base_uri": "https://localhost:8080/"
        },
        "id": "OntITQAaSTsi",
        "outputId": "d049a51b-fd40-4f90-d54c-b10eec4c57de"
      },
      "execution_count": 15,
      "outputs": [
        {
          "output_type": "stream",
          "name": "stdout",
          "text": [
            "\u001b[K\u001b[?25hnpx: installed 22 in 1.693s\n",
            "your url is: https://tasty-doodles-look-35-247-89-84.loca.lt\n",
            "^C\n"
          ]
        }
      ]
    },
    {
      "cell_type": "code",
      "source": [],
      "metadata": {
        "id": "HJVImk_wSTyb"
      },
      "execution_count": null,
      "outputs": []
    }
  ]
}